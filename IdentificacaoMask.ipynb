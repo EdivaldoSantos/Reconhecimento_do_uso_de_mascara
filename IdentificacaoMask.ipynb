{
  "nbformat": 4,
  "nbformat_minor": 0,
  "metadata": {
    "colab": {
      "name": "IdentificacaoMask",
      "provenance": [],
      "mount_file_id": "1w_cnE1r5jURvJUheWOvtQSDMFd786Gid",
      "authorship_tag": "ABX9TyNf/GlGP7B0nKtQjk/8o7zu",
      "include_colab_link": true
    },
    "kernelspec": {
      "name": "python3",
      "display_name": "Python 3"
    },
    "language_info": {
      "name": "python"
    }
  },
  "cells": [
    {
      "cell_type": "markdown",
      "metadata": {
        "id": "view-in-github",
        "colab_type": "text"
      },
      "source": [
        "<a href=\"https://colab.research.google.com/github/EdivaldoSantos/Reconhecimento_do_uso_de_mascara/blob/main/IdentificacaoMask.ipynb\" target=\"_parent\"><img src=\"https://colab.research.google.com/assets/colab-badge.svg\" alt=\"Open In Colab\"/></a>"
      ]
    },
    {
      "cell_type": "markdown",
      "metadata": {
        "id": "fqUW-RX_olZo"
      },
      "source": [
        "\n",
        "####**Identificação:** José Edivaldo Silva dos Santos (2578249)\n",
        "\n",
        "**Identificação do uso de máscara**\n",
        "\n",
        "Com a chegada do vírus covid-19, a sociedade mundial precisou se adaptar a uma nova cultura do uso do álcool em gel, manter um distanciamento social e a utilização da máscara de proteção. O número de mortes causadas por esse vírus é altíssimo em todo o mundo e de pessoas que contraíram o vírus chegando a ficarem à beira da morte. Muitas empresas tiveram que fechar as portas esperando a pandemia passar, outros descobriram a cultura do home office visando a segurança de seus colaboradores e a continuidade do negócio.\n",
        "\n",
        "Empresas da área de saúde como clínicas, hospitais e distribuidoras de medicamentos, por exemplo, tiveram maior dificuldade em aplicar a utilização do home office para algumas funções tais como médico, enfermeiros e  técnicos em enfermagem.\n",
        "\n",
        "A utilização de máscaras funciona como uma barreira física para liberação de gotículas no ar  quando a tosse, espirros e até mesmo durante conversas por onde o vírus é transmitido. Apesar de sua eficácia, seu uso deve ser acompanhado de outras medidas de proteção, como limpeza frequente das mãos e distanciamento físico de 2 metros de outras pessoas.\n",
        "\n",
        "**Objetivo**\n",
        "\n",
        "Esse projeto tem como objetivo aplicar algoritmos de machine learning para identificação do uso de máscara.\n",
        "\n",
        "**Especificação Técnica**\n",
        "\n",
        "O dataset de imagens utilizado para o desenvolvimento desse projeto foi localizado no portal https://iaexpert.academy/, importado para meu Doogle Drive para facilitar a integração com o Google Colab\n",
        "\n",
        "O formato dos dados utilizados neste dataset são imagens “JPG” separados por 2 categorias que são: \n",
        "-  **Cmask** (Imagens de pessoas com máscara).\n",
        "- **Smask** (Trata-se de pessoas sem a utilização da máscara).\n",
        "\n",
        "Esses dois diretórios formam o conjunto de dados utilizados para treinamento do algoritmo.\n",
        "\n",
        "Neste projeto iremos trabalhar com o modelo *supervisionado*. Usaremos o algoritmo classificador para induzir um modelo preditivo por meio da observação de um conjunto de objetos rotulados, que é referenciado como conjunto de dados para treinamento, esses rótulos correspondem a classe ou valores previamente definidos com  \"*Com máscara*\" ou \"*Sem máscara*”, com a finalidade de classificar, posteriormente, um objeto cujo rótulo seja desconhecido.\n",
        "\n",
        "O algoritmo KNN é um dos algoritmos de classificação mais utilizados para modelos supervisionados, sua ideia, consiste em dado um objeto desconhecido, o KNN procurar pelo K vizinho mais próximo a ele, em um conjunto de dados. Em nosso contexto, se esse objeto desconhecido estiver mais próximo do conjunto de dados: \"*Com máscara*\" ou \"*Sem máscara*” e assim nos retornará dizendo qual seria seu rótulo.\n",
        "\n",
        "Para o desenvolvimento desse projeto o Google Colab, Google Drive  o Python 3.7.11 e as biblioteca:\n",
        "\n",
        "- **K-nearest neighbor** - KNN é um algoritmo de aprendizado de máquina supervisionado simples e fácil de implementar que pode ser usado para resolver problemas de classificação e regressão.\n",
        "\n",
        "- **OpenCV** - É uma biblioteca que possui funções de manipulações básicas de imagens e vídeos, desde o carregamento de arquivos, até a conversão de um formato em outro. \n",
        "\n",
        "- **Numpy** - É uma biblioteca com funções para se trabalhar com computação numérica. Seu principal objeto é o vetor n-dimensional, ou ndarray.\n",
        "\n",
        "- **Pandas** - Uma biblioteca que oferece estruturas e operações para manipular tabelas numéricas e séries temporais; uma ferramenta de processamento de dados de alto desempenho; com recursos flexíveis de manipulação de planilhas e de banco de dados relacionais.\n",
        "\n",
        "- **Matplotlib** - Essa biblioteca é utilizada para criação de gráficos e visualização de dados.\n",
        "\n",
        "- **Scikit-learn** - É uma biblioteca de aprendizado de máquina,  nela encontramos  vários algoritmos de classificação, regressão e agrupamento incluindo máquinas de vetores de suporte.\n",
        "\n",
        "\n",
        "\n",
        "\n",
        "\n",
        "\n",
        "\n"
      ]
    },
    {
      "cell_type": "code",
      "metadata": {
        "id": "R6NbeL-gpZ-q"
      },
      "source": [
        "# Carregar as bibliotecas necessárias: \n",
        "import cv2 as cv \n",
        "import numpy as np\n",
        "import pandas as pd\n",
        "import os\n",
        "from sklearn.decomposition import PCA\n",
        "from sklearn.model_selection import train_test_split, GridSearchCV\n",
        "from sklearn.neighbors import KNeighborsClassifier\n",
        "from sklearn.metrics import confusion_matrix #matriz de confusão \n",
        "from sklearn.metrics import classification_report # metricas de validação\n",
        "from sklearn.metrics import accuracy_score #acuracia\n",
        "from sklearn.metrics import precision_score #precision\n",
        "from sklearn.metrics import recall_score #recall\n",
        "from sklearn.metrics import f1_score #f1-score\n",
        "from sklearn.metrics import roc_auc_score #area sob curva roc\n",
        "from sklearn.metrics import roc_curve #curva roc\n",
        "import matplotlib.pyplot as plt \n",
        "import warnings\n",
        "warnings.filterwarnings(\"ignore\")\n"
      ],
      "execution_count": null,
      "outputs": []
    },
    {
      "cell_type": "markdown",
      "metadata": {
        "id": "GUKObsFAvaP9"
      },
      "source": [
        "Após a importação das bibliotecas, iremos criar um dataframe, contendo o caminho da imagens (CAMINHO), a descrição (Com mascara ou Sem mascara) e o tipo (0 ou 1) "
      ]
    },
    {
      "cell_type": "code",
      "metadata": {
        "id": "S0M6AtvmpfU6"
      },
      "source": [
        "# Carregar a base de dados\n",
        "# Criação do dataframe função \"dados\"\n",
        "def carrega_dataframe(): \n",
        "  dados = {\n",
        "    \"CAMINHO\": [],\n",
        "    \"DESCRICAO\": [],\n",
        "    \"TIPO\": [],\n",
        "  }\n",
        " \n",
        " # Caminho do repositório do dataset que iremos trabalhar, está em meu google drive.\n",
        "  caminho_cmask = \"/content/drive/MyDrive/projeto/cmask\"\n",
        "  caminho_smask = \"/content/drive/MyDrive/projeto/smask\"\n",
        " \n",
        " # criação das lista de recepera o caminho das imagems e os rótulos.\n",
        "  cmask = os.listdir(caminho_cmask)\n",
        "  smask = os.listdir(caminho_smask)\n",
        " \n",
        " # Aqui vamos percorrer o caminho das imagens e armazená las como também adicionar a descrição e o tipo.\n",
        "  for arquivo in cmask:\n",
        "    dados[\"CAMINHO\"].append(f\"{caminho_cmask}{os.sep}{arquivo}\")\n",
        "    dados[\"DESCRICAO\"].append(f\"Com mascara\")\n",
        "    dados[\"TIPO\"].append(1)\n",
        " \n",
        "  for arquivo in smask:\n",
        "    dados[\"CAMINHO\"].append(f\"{caminho_smask}{os.sep}{arquivo}\")\n",
        "    dados[\"DESCRICAO\"].append(f\"Sem mascara\")\n",
        "    dados[\"TIPO\"].append(0)\n",
        " \n",
        "  dataframe = pd.DataFrame(dados)\n",
        " \n",
        "  return dataframe"
      ],
      "execution_count": null,
      "outputs": []
    },
    {
      "cell_type": "code",
      "metadata": {
        "id": "EORskeaDF642"
      },
      "source": [
        "# Aqui pegamos a função que criamos acima \"carrega_dataframe\" e carregamos em uma variável dados, assim poderemos facilitar o uso. \n",
        "dados = carrega_dataframe()"
      ],
      "execution_count": null,
      "outputs": []
    },
    {
      "cell_type": "code",
      "metadata": {
        "colab": {
          "base_uri": "https://localhost:8080/",
          "height": 264
        },
        "id": "ccA5g8YnvAz3",
        "outputId": "9e948ef1-e3cb-48da-9875-058e52a0c241"
      },
      "source": [
        "# Grafico do dataset\n",
        "dados[\"DESCRICAO\"].value_counts().plot.pie(title=\"Porcentagem dos Tipo de Dados\", autopct='%.2f%%', legend = False, fontsize=12) \n",
        "plt.axis('equal')\n",
        "\n",
        "plt.show()"
      ],
      "execution_count": null,
      "outputs": [
        {
          "output_type": "display_data",
          "data": {
            "image/png": "[encoded data removed]",
            "text/plain": [
              "<Figure size 432x288 with 1 Axes>"
            ]
          },
          "metadata": {}
        }
      ]
    },
    {
      "cell_type": "code",
      "metadata": {
        "id": "fBe5SVCkF7Fw"
      },
      "source": [
        "# Neste passo iremos salvar nosso dataframe, em um arquivo csv para auxiliar todas as vezes que precisarmos utilizar esse dataframe.\n",
        "# Salvaremos no mesmo diretor das imagens no Google Drive.\n",
        "dados.to_csv(\"/content/drive/MyDrive/projeto/imagens-df.csv\")"
      ],
      "execution_count": null,
      "outputs": []
    },
    {
      "cell_type": "code",
      "metadata": {
        "id": "TMKnIf0gF7PQ"
      },
      "source": [
        "# Como este comando podemos ler nosso arquivo csv criado no passo anterior\n",
        "dados = pd.read_csv(\"/content/drive/MyDrive/projeto/imagens-df.csv\")"
      ],
      "execution_count": null,
      "outputs": []
    },
    {
      "cell_type": "code",
      "metadata": {
        "colab": {
          "base_uri": "https://localhost:8080/",
          "height": 424
        },
        "id": "YXD8YAjvF7ug",
        "outputId": "ef134101-a123-4185-9890-b14025a0afde"
      },
      "source": [
        "# Exibindo o dataframe\n",
        "dados.head(500)"
      ],
      "execution_count": null,
      "outputs": [
        {
          "output_type": "execute_result",
          "data": {
            "text/html": [
              "<div>\n",
              "<style scoped>\n",
              "    .dataframe tbody tr th:only-of-type {\n",
              "        vertical-align: middle;\n",
              "    }\n",
              "\n",
              "    .dataframe tbody tr th {\n",
              "        vertical-align: top;\n",
              "    }\n",
              "\n",
              "    .dataframe thead th {\n",
              "        text-align: right;\n",
              "    }\n",
              "</style>\n",
              "<table border=\"1\" class=\"dataframe\">\n",
              "  <thead>\n",
              "    <tr style=\"text-align: right;\">\n",
              "      <th></th>\n",
              "      <th>Unnamed: 0</th>\n",
              "      <th>CAMINHO</th>\n",
              "      <th>DESCRICAO</th>\n",
              "      <th>TIPO</th>\n",
              "    </tr>\n",
              "  </thead>\n",
              "  <tbody>\n",
              "    <tr>\n",
              "      <th>0</th>\n",
              "      <td>0</td>\n",
              "      <td>/content/drive/MyDrive/projeto/cmask/37.jpg</td>\n",
              "      <td>Com mascara</td>\n",
              "      <td>1</td>\n",
              "    </tr>\n",
              "    <tr>\n",
              "      <th>1</th>\n",
              "      <td>1</td>\n",
              "      <td>/content/drive/MyDrive/projeto/cmask/187.jpg</td>\n",
              "      <td>Com mascara</td>\n",
              "      <td>1</td>\n",
              "    </tr>\n",
              "    <tr>\n",
              "      <th>2</th>\n",
              "      <td>2</td>\n",
              "      <td>/content/drive/MyDrive/projeto/cmask/182.jpg</td>\n",
              "      <td>Com mascara</td>\n",
              "      <td>1</td>\n",
              "    </tr>\n",
              "    <tr>\n",
              "      <th>3</th>\n",
              "      <td>3</td>\n",
              "      <td>/content/drive/MyDrive/projeto/cmask/30.jpg</td>\n",
              "      <td>Com mascara</td>\n",
              "      <td>1</td>\n",
              "    </tr>\n",
              "    <tr>\n",
              "      <th>4</th>\n",
              "      <td>4</td>\n",
              "      <td>/content/drive/MyDrive/projeto/cmask/217.jpg</td>\n",
              "      <td>Com mascara</td>\n",
              "      <td>1</td>\n",
              "    </tr>\n",
              "    <tr>\n",
              "      <th>...</th>\n",
              "      <td>...</td>\n",
              "      <td>...</td>\n",
              "      <td>...</td>\n",
              "      <td>...</td>\n",
              "    </tr>\n",
              "    <tr>\n",
              "      <th>495</th>\n",
              "      <td>495</td>\n",
              "      <td>/content/drive/MyDrive/projeto/smask/333.jpg</td>\n",
              "      <td>Sem mascara</td>\n",
              "      <td>0</td>\n",
              "    </tr>\n",
              "    <tr>\n",
              "      <th>496</th>\n",
              "      <td>496</td>\n",
              "      <td>/content/drive/MyDrive/projeto/smask/386.jpg</td>\n",
              "      <td>Sem mascara</td>\n",
              "      <td>0</td>\n",
              "    </tr>\n",
              "    <tr>\n",
              "      <th>497</th>\n",
              "      <td>497</td>\n",
              "      <td>/content/drive/MyDrive/projeto/smask/163.jpg</td>\n",
              "      <td>Sem mascara</td>\n",
              "      <td>0</td>\n",
              "    </tr>\n",
              "    <tr>\n",
              "      <th>498</th>\n",
              "      <td>498</td>\n",
              "      <td>/content/drive/MyDrive/projeto/smask/234.jpg</td>\n",
              "      <td>Sem mascara</td>\n",
              "      <td>0</td>\n",
              "    </tr>\n",
              "    <tr>\n",
              "      <th>499</th>\n",
              "      <td>499</td>\n",
              "      <td>/content/drive/MyDrive/projeto/smask/16.jpg</td>\n",
              "      <td>Sem mascara</td>\n",
              "      <td>0</td>\n",
              "    </tr>\n",
              "  </tbody>\n",
              "</table>\n",
              "<p>500 rows × 4 columns</p>\n",
              "</div>"
            ],
            "text/plain": [
              "     Unnamed: 0  ... TIPO\n",
              "0             0  ...    1\n",
              "1             1  ...    1\n",
              "2             2  ...    1\n",
              "3             3  ...    1\n",
              "4             4  ...    1\n",
              "..          ...  ...  ...\n",
              "495         495  ...    0\n",
              "496         496  ...    0\n",
              "497         497  ...    0\n",
              "498         498  ...    0\n",
              "499         499  ...    0\n",
              "\n",
              "[500 rows x 4 columns]"
            ]
          },
          "metadata": {},
          "execution_count": 8
        }
      ]
    },
    {
      "cell_type": "markdown",
      "metadata": {
        "id": "rNyeOBgPpG4j"
      },
      "source": [
        "Pré-processamento\n"
      ]
    },
    {
      "cell_type": "code",
      "metadata": {
        "id": "EmFamopyK8D9"
      },
      "source": [
        "# Esta etapa vamos criar uma função para converter as imagens em escala de cinza utilizando a biblioteca OpenCV e transformaremos essa imagens em um vetor utilizando método “.flatten”   e adicionando esse dados ao nosso dataframe, na coluna “IMAGEM”\n",
        "\n",
        "def ler_imagens(dados):\n",
        "  arquivos = dados[\"CAMINHO\"]\n",
        "  imagens = list()\n",
        " \n",
        "  for arquivo in arquivos:\n",
        "    img = cv.cvtColor(cv.imread(arquivo), cv.COLOR_BGR2GRAY).flatten()\n",
        "    imagens.append(img)\n",
        "    \n",
        "  dados[\"IMAGEM\"] = imagens"
      ],
      "execution_count": null,
      "outputs": []
    },
    {
      "cell_type": "code",
      "metadata": {
        "id": "_TrQbddGLno4"
      },
      "source": [
        "# Executaremos a função ler_imagens, para as imagens de nosso dataframe\n",
        "\n",
        "ler_imagens(dados)"
      ],
      "execution_count": null,
      "outputs": []
    },
    {
      "cell_type": "code",
      "metadata": {
        "colab": {
          "base_uri": "https://localhost:8080/",
          "height": 424
        },
        "id": "k6DB1MGML3e2",
        "outputId": "d6e4046c-6316-407a-d350-d959362436b8"
      },
      "source": [
        "# Verificando nova estrutura de nosso dataframe\n",
        "\n",
        "dados.head(500)"
      ],
      "execution_count": null,
      "outputs": [
        {
          "output_type": "execute_result",
          "data": {
            "text/html": [
              "<div>\n",
              "<style scoped>\n",
              "    .dataframe tbody tr th:only-of-type {\n",
              "        vertical-align: middle;\n",
              "    }\n",
              "\n",
              "    .dataframe tbody tr th {\n",
              "        vertical-align: top;\n",
              "    }\n",
              "\n",
              "    .dataframe thead th {\n",
              "        text-align: right;\n",
              "    }\n",
              "</style>\n",
              "<table border=\"1\" class=\"dataframe\">\n",
              "  <thead>\n",
              "    <tr style=\"text-align: right;\">\n",
              "      <th></th>\n",
              "      <th>Unnamed: 0</th>\n",
              "      <th>CAMINHO</th>\n",
              "      <th>DESCRICAO</th>\n",
              "      <th>TIPO</th>\n",
              "      <th>IMAGEM</th>\n",
              "    </tr>\n",
              "  </thead>\n",
              "  <tbody>\n",
              "    <tr>\n",
              "      <th>0</th>\n",
              "      <td>0</td>\n",
              "      <td>/content/drive/MyDrive/projeto/cmask/37.jpg</td>\n",
              "      <td>Com mascara</td>\n",
              "      <td>1</td>\n",
              "      <td>[43, 40, 39, 41, 44, 49, 62, 76, 79, 71, 62, 5...</td>\n",
              "    </tr>\n",
              "    <tr>\n",
              "      <th>1</th>\n",
              "      <td>1</td>\n",
              "      <td>/content/drive/MyDrive/projeto/cmask/187.jpg</td>\n",
              "      <td>Com mascara</td>\n",
              "      <td>1</td>\n",
              "      <td>[35, 35, 35, 35, 35, 35, 35, 35, 35, 38, 38, 3...</td>\n",
              "    </tr>\n",
              "    <tr>\n",
              "      <th>2</th>\n",
              "      <td>2</td>\n",
              "      <td>/content/drive/MyDrive/projeto/cmask/182.jpg</td>\n",
              "      <td>Com mascara</td>\n",
              "      <td>1</td>\n",
              "      <td>[1, 1, 1, 1, 1, 1, 1, 1, 3, 0, 0, 0, 0, 0, 1, ...</td>\n",
              "    </tr>\n",
              "    <tr>\n",
              "      <th>3</th>\n",
              "      <td>3</td>\n",
              "      <td>/content/drive/MyDrive/projeto/cmask/30.jpg</td>\n",
              "      <td>Com mascara</td>\n",
              "      <td>1</td>\n",
              "      <td>[138, 144, 184, 179, 184, 171, 163, 168, 165, ...</td>\n",
              "    </tr>\n",
              "    <tr>\n",
              "      <th>4</th>\n",
              "      <td>4</td>\n",
              "      <td>/content/drive/MyDrive/projeto/cmask/217.jpg</td>\n",
              "      <td>Com mascara</td>\n",
              "      <td>1</td>\n",
              "      <td>[102, 110, 99, 105, 136, 142, 131, 139, 138, 1...</td>\n",
              "    </tr>\n",
              "    <tr>\n",
              "      <th>...</th>\n",
              "      <td>...</td>\n",
              "      <td>...</td>\n",
              "      <td>...</td>\n",
              "      <td>...</td>\n",
              "      <td>...</td>\n",
              "    </tr>\n",
              "    <tr>\n",
              "      <th>495</th>\n",
              "      <td>495</td>\n",
              "      <td>/content/drive/MyDrive/projeto/smask/333.jpg</td>\n",
              "      <td>Sem mascara</td>\n",
              "      <td>0</td>\n",
              "      <td>[89, 89, 88, 86, 84, 82, 80, 79, 79, 77, 75, 7...</td>\n",
              "    </tr>\n",
              "    <tr>\n",
              "      <th>496</th>\n",
              "      <td>496</td>\n",
              "      <td>/content/drive/MyDrive/projeto/smask/386.jpg</td>\n",
              "      <td>Sem mascara</td>\n",
              "      <td>0</td>\n",
              "      <td>[49, 49, 50, 49, 49, 48, 47, 47, 46, 45, 45, 4...</td>\n",
              "    </tr>\n",
              "    <tr>\n",
              "      <th>497</th>\n",
              "      <td>497</td>\n",
              "      <td>/content/drive/MyDrive/projeto/smask/163.jpg</td>\n",
              "      <td>Sem mascara</td>\n",
              "      <td>0</td>\n",
              "      <td>[164, 165, 168, 174, 179, 179, 177, 175, 163, ...</td>\n",
              "    </tr>\n",
              "    <tr>\n",
              "      <th>498</th>\n",
              "      <td>498</td>\n",
              "      <td>/content/drive/MyDrive/projeto/smask/234.jpg</td>\n",
              "      <td>Sem mascara</td>\n",
              "      <td>0</td>\n",
              "      <td>[151, 148, 153, 119, 131, 108, 129, 137, 129, ...</td>\n",
              "    </tr>\n",
              "    <tr>\n",
              "      <th>499</th>\n",
              "      <td>499</td>\n",
              "      <td>/content/drive/MyDrive/projeto/smask/16.jpg</td>\n",
              "      <td>Sem mascara</td>\n",
              "      <td>0</td>\n",
              "      <td>[44, 41, 37, 35, 34, 33, 32, 31, 29, 32, 37, 3...</td>\n",
              "    </tr>\n",
              "  </tbody>\n",
              "</table>\n",
              "<p>500 rows × 5 columns</p>\n",
              "</div>"
            ],
            "text/plain": [
              "     Unnamed: 0  ...                                             IMAGEM\n",
              "0             0  ...  [43, 40, 39, 41, 44, 49, 62, 76, 79, 71, 62, 5...\n",
              "1             1  ...  [35, 35, 35, 35, 35, 35, 35, 35, 35, 38, 38, 3...\n",
              "2             2  ...  [1, 1, 1, 1, 1, 1, 1, 1, 3, 0, 0, 0, 0, 0, 1, ...\n",
              "3             3  ...  [138, 144, 184, 179, 184, 171, 163, 168, 165, ...\n",
              "4             4  ...  [102, 110, 99, 105, 136, 142, 131, 139, 138, 1...\n",
              "..          ...  ...                                                ...\n",
              "495         495  ...  [89, 89, 88, 86, 84, 82, 80, 79, 79, 77, 75, 7...\n",
              "496         496  ...  [49, 49, 50, 49, 49, 48, 47, 47, 46, 45, 45, 4...\n",
              "497         497  ...  [164, 165, 168, 174, 179, 179, 177, 175, 163, ...\n",
              "498         498  ...  [151, 148, 153, 119, 131, 108, 129, 137, 129, ...\n",
              "499         499  ...  [44, 41, 37, 35, 34, 33, 32, 31, 29, 32, 37, 3...\n",
              "\n",
              "[500 rows x 5 columns]"
            ]
          },
          "metadata": {},
          "execution_count": 11
        }
      ]
    },
    {
      "cell_type": "code",
      "metadata": {
        "id": "pZ7bCzny7xCp"
      },
      "source": [
        "# Agora que nosso dataframe está completo, vamos dividir dois conjuntos \"treinamento\" e \"teste\". Para isso utilizaremos o método train_test_split da biblioteca Scikit-learn.\n",
        "# Na variável \"X\" carregamos as imagens no formato de lista. Já na variável \"Y\" campo tipo também como um lista\n",
        "\n",
        "X = list(dados[\"IMAGEM\"]) # Característica\n",
        "y = list(dados[\"TIPO\"]) # Classe"
      ],
      "execution_count": null,
      "outputs": []
    },
    {
      "cell_type": "code",
      "metadata": {
        "id": "WKY3eYv-_8zI"
      },
      "source": [
        "# Esta etapa vamos dividir nossa lista em train e test, utilizando train_test_split e passando as lista (X e Y) utilizando 0.99 de nosso conjunto de dados já que temos mais imagens de pessoas sem máscara\n",
        "X_train, X_test, y_train, y_test = train_test_split(X, y, train_size=0.99, random_state=13)"
      ],
      "execution_count": null,
      "outputs": []
    },
    {
      "cell_type": "markdown",
      "metadata": {
        "id": "u7zH_xaGnf0l"
      },
      "source": [
        "Aqui vamos utilizar da Analise de Componemntes Pricipais(PCA, como é conhecido).\n",
        "PCA é um metodo que tem por finalidade analisar um conjunto de dados e escolher as formas mais representativas oara tal analise.\n",
        "o PCA ira extrair das imagens aoenas as caractesiticas mais notaveis para classificacao"
      ]
    },
    {
      "cell_type": "code",
      "metadata": {
        "id": "YrJqvCEcdZ2n",
        "colab": {
          "base_uri": "https://localhost:8080/"
        },
        "outputId": "ca0c93dd-a233-4f2e-9a97-146f88eb6b62"
      },
      "source": [
        "# Agora que temos separado treino e teste nosso conjunto de dados, refinamos as características da imagem.\n",
        "# Dessa forma podemos filtrar as principais características que são mais importantes para classificar um rosto em uma imagem.\n",
        "\n",
        "pca = PCA(n_components=30)\n",
        "pca.fit(X_train)"
      ],
      "execution_count": null,
      "outputs": [
        {
          "output_type": "execute_result",
          "data": {
            "text/plain": [
              "PCA(copy=True, iterated_power='auto', n_components=30, random_state=None,\n",
              "    svd_solver='auto', tol=0.0, whiten=False)"
            ]
          },
          "metadata": {},
          "execution_count": 14
        }
      ]
    },
    {
      "cell_type": "code",
      "metadata": {
        "id": "_1Lb-DdCmG0O"
      },
      "source": [
        "# Aqui vamos utilizar o PCA para melhora nossa análise, utilizando o método transform os modelos de X_train e X_test\n",
        "\n",
        "X_train = pca.transform(X_train)\n",
        "X_test = pca.transform(X_test)"
      ],
      "execution_count": null,
      "outputs": []
    },
    {
      "cell_type": "markdown",
      "metadata": {
        "id": "cHPTkg0-qQ4d"
      },
      "source": [
        "Agora que temos as principais característica de nossa imagem graças a ajuda do PCA, podemos iniciar o treinamento do KNN. Abaixo criaremos um função para passar alguns parametros com o K elementos do KNN a qual vamos basear.\n"
      ]
    },
    {
      "cell_type": "code",
      "metadata": {
        "id": "KC14M_AimIA9"
      },
      "source": [
        "parametros = {\n",
        "    \"n_neighbors\": [2, 3, 5, 11, 19, 23, 29], # Lista de valores K\n",
        "    \"weights\": [\"uniform\", \"distance\"], # Lista para peso\n",
        "    \"metric\": [\"euclidean\", \"manhattam\", \"cosine\", \"l1\", \"l2\"] # Lista de metricas\n",
        "}"
      ],
      "execution_count": null,
      "outputs": []
    },
    {
      "cell_type": "markdown",
      "metadata": {
        "id": "qa3caZaXUFmJ"
      },
      "source": [
        "O GridSearchCV é uma ferramenta usada para automatizar o processo de ajuste dos parâmetros de um algoritmo, pois ele fará de maneira sistemática diversas combinações dos parâmetros e depois de avaliá-los os armazenará num único objeto.\n",
        "\n",
        "O objetivo primário do GridSearchCV é a criação de combinações de parâmetros para posteriormente avaliá-las."
      ]
    },
    {
      "cell_type": "code",
      "metadata": {
        "id": "VwuDCZX4mKpF"
      },
      "source": [
        "# Vamos criar uma instancia de GridSearch, passando um modelo vazio do KNN e passando a função parâmetro criada acima.\n",
        "# Com isso o algoritmo irá avaliar qual o melhor hiperparâmetro para ser utilizado no treinamento\n",
        "knn = GridSearchCV(KNeighborsClassifier(), parametros) "
      ],
      "execution_count": null,
      "outputs": []
    },
    {
      "cell_type": "code",
      "metadata": {
        "colab": {
          "base_uri": "https://localhost:8080/"
        },
        "id": "fLJU2IUimMw3",
        "outputId": "809ffe96-f16b-45e1-8b69-540de231663a"
      },
      "source": [
        "# Agora com o modelo instanciado iremos passar X_train que é o conjunto de característica de treino, Y_train que é conjunto de classe de treino\n",
        "# Depois de executar essa célula temos nosso modelo treinado\n",
        "knn.fit(X_train, y_train)"
      ],
      "execution_count": null,
      "outputs": [
        {
          "output_type": "execute_result",
          "data": {
            "text/plain": [
              "GridSearchCV(cv=None, error_score=nan,\n",
              "             estimator=KNeighborsClassifier(algorithm='auto', leaf_size=30,\n",
              "                                            metric='minkowski',\n",
              "                                            metric_params=None, n_jobs=None,\n",
              "                                            n_neighbors=5, p=2,\n",
              "                                            weights='uniform'),\n",
              "             iid='deprecated', n_jobs=None,\n",
              "             param_grid={'metric': ['euclidean', 'manhattam', 'cosine', 'l1',\n",
              "                                    'l2'],\n",
              "                         'n_neighbors': [2, 3, 5, 11, 19, 23, 29],\n",
              "                         'weights': ['uniform', 'distance']},\n",
              "             pre_dispatch='2*n_jobs', refit=True, return_train_score=False,\n",
              "             scoring=None, verbose=0)"
            ]
          },
          "metadata": {},
          "execution_count": 18
        }
      ]
    },
    {
      "cell_type": "code",
      "metadata": {
        "colab": {
          "base_uri": "https://localhost:8080/"
        },
        "id": "7PE7T7npmQum",
        "outputId": "a61fc565-9a2a-4ee4-aaa8-8f4994b21535"
      },
      "source": [
        "knn.score(X=X_test, y=y_test)"
      ],
      "execution_count": null,
      "outputs": [
        {
          "output_type": "execute_result",
          "data": {
            "text/plain": [
              "0.9"
            ]
          },
          "metadata": {},
          "execution_count": 19
        }
      ]
    },
    {
      "cell_type": "code",
      "metadata": {
        "id": "nMIDQJe4mRgB"
      },
      "source": [
        "predicao = knn.predict(X_test)\n"
      ],
      "execution_count": null,
      "outputs": []
    },
    {
      "cell_type": "code",
      "metadata": {
        "id": "p1CP_ZMamTve"
      },
      "source": [
        "# Agora vamos criar um matrix de confusão separando em verdadeiros_positivos, falsos_positivos, falsos_negativos, verdadeiros_negativos\n",
        "verdadeiros_positivos, falsos_positivos, falsos_negativos, verdadeiros_negativos = confusion_matrix(y_test, predicao).ravel()"
      ],
      "execution_count": null,
      "outputs": []
    },
    {
      "cell_type": "code",
      "metadata": {
        "colab": {
          "base_uri": "https://localhost:8080/"
        },
        "id": "wyFYotnBmV2u",
        "outputId": "7854275d-61d2-46d5-b3b9-2321bd4bd44e"
      },
      "source": [
        "verdadeiros_positivos, verdadeiros_negativos  # O primeiro valor corresponde a coluna verdadeiros_positivos e o segundo a coluna verdadeiros_negativos"
      ],
      "execution_count": null,
      "outputs": [
        {
          "output_type": "execute_result",
          "data": {
            "text/plain": [
              "(8, 1)"
            ]
          },
          "metadata": {},
          "execution_count": 22
        }
      ]
    },
    {
      "cell_type": "code",
      "metadata": {
        "colab": {
          "base_uri": "https://localhost:8080/"
        },
        "id": "rIIy7oXlmXjU",
        "outputId": "9a44c2d6-57e0-4c85-d949-4e3f65ea8e24"
      },
      "source": [
        "falsos_positivos, falsos_negativos # O primeiro valor corresponde a coluna falsos_positivos e o segundo a coluna falsos_negativos"
      ],
      "execution_count": null,
      "outputs": [
        {
          "output_type": "execute_result",
          "data": {
            "text/plain": [
              "(1, 0)"
            ]
          },
          "metadata": {},
          "execution_count": 23
        }
      ]
    },
    {
      "cell_type": "code",
      "metadata": {
        "colab": {
          "base_uri": "https://localhost:8080/"
        },
        "id": "xyAfKm7geUmJ",
        "outputId": "0e0c8383-0c23-4335-a153-9eb8ea4f368a"
      },
      "source": [
        "# Acurácia\n",
        "acuracia = accuracy_score(y_test, predicao)\n",
        "print('Acurácia: %f' % acuracia)"
      ],
      "execution_count": null,
      "outputs": [
        {
          "output_type": "stream",
          "name": "stdout",
          "text": [
            "Acurácia: 0.900000\n"
          ]
        }
      ]
    },
    {
      "cell_type": "code",
      "metadata": {
        "colab": {
          "base_uri": "https://localhost:8080/"
        },
        "id": "oSEYrxqDeuVd",
        "outputId": "31f51b7a-3868-4cbe-ed5e-5798b15fb310"
      },
      "source": [
        "# Precision\n",
        "precision = precision_score(y_test, predicao)\n",
        "print('Precision: %f' % precision)"
      ],
      "execution_count": null,
      "outputs": [
        {
          "output_type": "stream",
          "name": "stdout",
          "text": [
            "Precision: 0.500000\n"
          ]
        }
      ]
    },
    {
      "cell_type": "code",
      "metadata": {
        "colab": {
          "base_uri": "https://localhost:8080/"
        },
        "id": "SRaJJHmjgBRc",
        "outputId": "e65f3083-2936-4e3c-eebe-dc768955d244"
      },
      "source": [
        "# Recall\n",
        "recall = recall_score(y_test, predicao)\n",
        "print('Recall: %f' % recall)"
      ],
      "execution_count": null,
      "outputs": [
        {
          "output_type": "stream",
          "name": "stdout",
          "text": [
            "Recall: 1.000000\n"
          ]
        }
      ]
    },
    {
      "cell_type": "code",
      "metadata": {
        "colab": {
          "base_uri": "https://localhost:8080/"
        },
        "id": "0ZtiqJ8PgLMU",
        "outputId": "2eba1a19-8e06-4738-913f-dd5abc310707"
      },
      "source": [
        "# F1-Score\n",
        "f1 = f1_score(y_test, predicao)\n",
        "print('F1-Score: %f' % f1)"
      ],
      "execution_count": null,
      "outputs": [
        {
          "output_type": "stream",
          "name": "stdout",
          "text": [
            "F1-Score: 0.666667\n"
          ]
        }
      ]
    },
    {
      "cell_type": "code",
      "metadata": {
        "colab": {
          "base_uri": "https://localhost:8080/"
        },
        "id": "PP6qA9VXkPzV",
        "outputId": "a47c7d96-8a4a-4367-ba9e-e1bc3d1534b4"
      },
      "source": [
        "# calculate AUC\n",
        "auc = roc_auc_score(y_test, predicao)\n",
        "print('AUC: %.3f' % auc)"
      ],
      "execution_count": null,
      "outputs": [
        {
          "output_type": "stream",
          "name": "stdout",
          "text": [
            "AUC: 0.944\n"
          ]
        }
      ]
    },
    {
      "cell_type": "code",
      "metadata": {
        "colab": {
          "base_uri": "https://localhost:8080/"
        },
        "id": "7d0mVIaGgRs6",
        "outputId": "92a26886-5b96-4b59-8853-c1c89b5e28c6"
      },
      "source": [
        "print(classification_report(y_test, predicao))"
      ],
      "execution_count": null,
      "outputs": [
        {
          "output_type": "stream",
          "name": "stdout",
          "text": [
            "              precision    recall  f1-score   support\n",
            "\n",
            "           0       1.00      0.89      0.94         9\n",
            "           1       0.50      1.00      0.67         1\n",
            "\n",
            "    accuracy                           0.90        10\n",
            "   macro avg       0.75      0.94      0.80        10\n",
            "weighted avg       0.95      0.90      0.91        10\n",
            "\n"
          ]
        }
      ]
    },
    {
      "cell_type": "code",
      "metadata": {
        "colab": {
          "base_uri": "https://localhost:8080/",
          "height": 296
        },
        "id": "f1nQvUujhi3V",
        "outputId": "75675ab6-8bf7-413b-ac0a-48b23cd07884"
      },
      "source": [
        "# Estimando as probabilidades\n",
        "knn_prob = knn.predict_proba(X_test)\n",
        "probs = knn_prob[:, 1]\n",
        "rfp, rvp,lim = roc_curve(y_test, probs)\n",
        "\n",
        "# Gráfico da curva roc\n",
        "plt.plot(rfp, rvp, marker='.', label='KNN',color=\"red\")\n",
        "plt.plot([0, 1], [0, 1], color='darkblue', linestyle='--')\n",
        "\n",
        "# axis labels\n",
        "plt.xlabel('1- Especificidade')\n",
        "plt.ylabel('Sensibilidade')\n",
        "# show the legend\n",
        "plt.legend()\n",
        "# show the plot\n",
        "plt.show()\n",
        "print(\"AUC-ROC :\",auc)"
      ],
      "execution_count": null,
      "outputs": [
        {
          "output_type": "display_data",
          "data": {
            "image/png": "[encoded data removed]",
            "text/plain": [
              "<Figure size 432x288 with 1 Axes>"
            ]
          },
          "metadata": {
            "needs_background": "light"
          }
        },
        {
          "output_type": "stream",
          "name": "stdout",
          "text": [
            "AUC-ROC : 0.9444444444444444\n"
          ]
        }
      ]
    }
  ]
}